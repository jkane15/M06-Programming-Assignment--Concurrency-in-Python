{
 "cells": [
  {
   "cell_type": "markdown",
   "id": "2ff19c56-0d51-4435-bc6e-3fdfb8fcbaca",
   "metadata": {},
   "source": [
    "13.1 Write the current date as a string to the text file today.txt."
   ]
  },
  {
   "cell_type": "code",
   "execution_count": null,
   "id": "20befe20-0bbf-454a-b59d-57891210c74d",
   "metadata": {},
   "outputs": [],
   "source": [
    "from datetime import date\n",
    "\n",
    "current_date = date.today()\n",
    "\n",
    "date_string = current_date.strftime(\"%Y-%m-%d\")  # Format as YYYY-MM-DD\n",
    "\n",
    "with open(\"today.txt\", \"w\") as file:\n",
    "    file.write(date_string)\n",
    "\n",
    "print(\"Date has been written to today.txt.\")\n"
   ]
  },
  {
   "cell_type": "markdown",
   "id": "117ad806-5a45-498a-b87e-cb8e46b3be6c",
   "metadata": {},
   "source": [
    "13.2 Read the text file today.txt into the string today_string."
   ]
  },
  {
   "cell_type": "code",
   "execution_count": null,
   "id": "96d4f6d1-d83b-44c5-b759-3cd83f086f8b",
   "metadata": {},
   "outputs": [],
   "source": [
    "with open(\"today.txt\", \"r\") as file:\n",
    "    today_string = file.read()\n",
    "\n",
    "print(\"Contents of today.txt have been read into today_string.\")\n"
   ]
  },
  {
   "cell_type": "markdown",
   "id": "969486a4-7e52-4dc1-953d-6879730d6929",
   "metadata": {},
   "source": [
    "13.3 Parse the date from today_string."
   ]
  },
  {
   "cell_type": "code",
   "execution_count": null,
   "id": "7c407bc4-a751-4854-9d8d-9d60418ef9a1",
   "metadata": {},
   "outputs": [],
   "source": [
    "from datetime import datetime\n",
    "\n",
    "parsed_date = datetime.strptime(today_string, \"%Y-%m-%d\").date()\n",
    "\n",
    "print(\"Date has been parsed from today_string.\")\n"
   ]
  },
  {
   "cell_type": "code",
   "execution_count": null,
   "id": "36829201-94f9-47be-b79d-4bceb2d2f6e0",
   "metadata": {},
   "outputs": [],
   "source": [
    "15.1 Use multiprocessing to create three separate processes. Make each one wait a random number of seconds between zero and one, print the current time, and then exit."
   ]
  }
 ],
 "metadata": {
  "kernelspec": {
   "display_name": "Python 3 (ipykernel)",
   "language": "python",
   "name": "python3"
  },
  "language_info": {
   "codemirror_mode": {
    "name": "ipython",
    "version": 3
   },
   "file_extension": ".py",
   "mimetype": "text/x-python",
   "name": "python",
   "nbconvert_exporter": "python",
   "pygments_lexer": "ipython3",
   "version": "3.11.7"
  }
 },
 "nbformat": 4,
 "nbformat_minor": 5
}
